{
 "cells": [
  {
   "cell_type": "markdown",
   "id": "31d9f2f6-ef3b-4b26-b374-9102a16fe520",
   "metadata": {},
   "source": [
    "### ML assignment 1"
   ]
  },
  {
   "cell_type": "markdown",
   "id": "97c8bb83-1b9f-4456-a11d-c7861988443c",
   "metadata": {},
   "source": [
    "Q4. Create a list of your favorite movies and print it. Then, append a new movie to the list and\n",
    "print the updated list."
   ]
  },
  {
   "cell_type": "code",
   "execution_count": 2,
   "id": "0f26a023-aefc-43c1-af31-ad6acc600d1c",
   "metadata": {},
   "outputs": [
    {
     "data": {
      "text/plain": [
       "['Shrek', 'Wolverine', 'Spiderman']"
      ]
     },
     "execution_count": 2,
     "metadata": {},
     "output_type": "execute_result"
    }
   ],
   "source": [
    "list_movies=['Shrek','Wolverine','Spiderman']\n",
    "list_movies"
   ]
  },
  {
   "cell_type": "code",
   "execution_count": 3,
   "id": "9ef2f6b0-ff10-486e-8fbc-06a69427dce7",
   "metadata": {},
   "outputs": [
    {
     "data": {
      "text/plain": [
       "['Shrek', 'Wolverine', 'Spiderman', 'Stonehearst asylum']"
      ]
     },
     "execution_count": 3,
     "metadata": {},
     "output_type": "execute_result"
    }
   ],
   "source": [
    "list_movies.append('Stonehearst asylum')\n",
    "list_movies"
   ]
  },
  {
   "cell_type": "markdown",
   "id": "c25285d6-1f70-43f9-8b19-8adea7453cf1",
   "metadata": {},
   "source": [
    "Q5. Create a list of integers from 1 to 10 and print it. Calculate the sum of all the numbers in\n",
    "the list and print the result."
   ]
  },
  {
   "cell_type": "code",
   "execution_count": 6,
   "id": "58f7fce4-bec8-4af3-a1e4-a2cb4df8a180",
   "metadata": {},
   "outputs": [
    {
     "data": {
      "text/plain": [
       "[1, 2, 3, 4, 5, 6, 7, 8, 9, 10]"
      ]
     },
     "execution_count": 6,
     "metadata": {},
     "output_type": "execute_result"
    }
   ],
   "source": [
    "list_int=list(range(1, 11))\n",
    "list_int"
   ]
  },
  {
   "cell_type": "code",
   "execution_count": 9,
   "id": "a4e870ba-0cc8-4658-a203-ebfc4e3ca181",
   "metadata": {},
   "outputs": [
    {
     "data": {
      "text/plain": [
       "55"
      ]
     },
     "execution_count": 9,
     "metadata": {},
     "output_type": "execute_result"
    }
   ],
   "source": [
    "total_sum=sum(list_int)\n",
    "total_sum"
   ]
  },
  {
   "cell_type": "markdown",
   "id": "5027ed47-c97e-4d0a-8e69-1d2c0a5d7f7b",
   "metadata": {},
   "source": [
    "Q6. Create a list of mixed data types including strings, integers, and floats and print it. Remove\n",
    "the first element from the list and print the modified list."
   ]
  },
  {
   "cell_type": "code",
   "execution_count": 10,
   "id": "0811791f-d616-46b8-a1d4-341d07f5db2a",
   "metadata": {},
   "outputs": [
    {
     "data": {
      "text/plain": [
       "['Hello', 'everyone', 1, 2, 3, 0.1]"
      ]
     },
     "execution_count": 10,
     "metadata": {},
     "output_type": "execute_result"
    }
   ],
   "source": [
    "mixed_list=['Hello','everyone',1,2,3,0.1]\n",
    "mixed_list"
   ]
  },
  {
   "cell_type": "code",
   "execution_count": 13,
   "id": "fd9398cf-62d8-4ff6-b3c8-e01a290eac7f",
   "metadata": {},
   "outputs": [
    {
     "data": {
      "text/plain": [
       "0"
      ]
     },
     "execution_count": 13,
     "metadata": {},
     "output_type": "execute_result"
    }
   ],
   "source": [
    "index=mixed_list.index('Hello')\n",
    "index"
   ]
  },
  {
   "cell_type": "code",
   "execution_count": 14,
   "id": "efefba3a-14b0-4da9-b981-84020d9431e6",
   "metadata": {},
   "outputs": [
    {
     "data": {
      "text/plain": [
       "'Hello'"
      ]
     },
     "execution_count": 14,
     "metadata": {},
     "output_type": "execute_result"
    }
   ],
   "source": [
    "mixed_list.pop(0)"
   ]
  },
  {
   "cell_type": "code",
   "execution_count": 15,
   "id": "38ec29aa-1c7d-49e3-b3bb-ba929ca4cd68",
   "metadata": {},
   "outputs": [
    {
     "data": {
      "text/plain": [
       "['everyone', 1, 2, 3, 0.1]"
      ]
     },
     "execution_count": 15,
     "metadata": {},
     "output_type": "execute_result"
    }
   ],
   "source": [
    "mixed_list"
   ]
  },
  {
   "cell_type": "markdown",
   "id": "96656e4d-8111-4ac4-8697-326a96ae037f",
   "metadata": {},
   "source": [
    "Q7. Create a tuple containing the names of the days of the week and print it. Access and print\n",
    "the name of the third day."
   ]
  },
  {
   "cell_type": "code",
   "execution_count": 16,
   "id": "987ed764-357f-4d6d-801c-a78aeedc8ff3",
   "metadata": {},
   "outputs": [
    {
     "data": {
      "text/plain": [
       "('sunday', 'monday', 'tuesday', 'wednesday', 'thursday', 'friday', 'saturday')"
      ]
     },
     "execution_count": 16,
     "metadata": {},
     "output_type": "execute_result"
    }
   ],
   "source": [
    "days_tuple=('sunday','monday','tuesday','wednesday','thursday','friday','saturday')\n",
    "days_tuple"
   ]
  },
  {
   "cell_type": "code",
   "execution_count": 17,
   "id": "e5f58b5b-e7d8-4d4e-aa21-33100c767976",
   "metadata": {},
   "outputs": [
    {
     "data": {
      "text/plain": [
       "'tuesday'"
      ]
     },
     "execution_count": 17,
     "metadata": {},
     "output_type": "execute_result"
    }
   ],
   "source": [
    "days_tuple[2]"
   ]
  },
  {
   "cell_type": "markdown",
   "id": "7d7db4ee-1a30-440a-a5f3-5a92709a2f2c",
   "metadata": {},
   "source": [
    "Q8. Create a tuple of your favorite colors and print it. Check if a certain color is present in the\n",
    "tuple and print the result."
   ]
  },
  {
   "cell_type": "code",
   "execution_count": 18,
   "id": "f564843b-d841-44c8-a09e-0998df43bddb",
   "metadata": {},
   "outputs": [
    {
     "data": {
      "text/plain": [
       "('maroon', 'black', 'white', 'violet')"
      ]
     },
     "execution_count": 18,
     "metadata": {},
     "output_type": "execute_result"
    }
   ],
   "source": [
    "fav_color=('maroon','black','white','violet')\n",
    "fav_color"
   ]
  },
  {
   "cell_type": "code",
   "execution_count": 20,
   "id": "2c23fd69-b308-4bd8-bbe0-37090201fcd8",
   "metadata": {},
   "outputs": [
    {
     "data": {
      "text/plain": [
       "False"
      ]
     },
     "execution_count": 20,
     "metadata": {},
     "output_type": "execute_result"
    }
   ],
   "source": [
    "check='red'\n",
    "is_present=check in fav_color\n",
    "is_present"
   ]
  },
  {
   "cell_type": "code",
   "execution_count": 21,
   "id": "a4de64d2-0082-48d6-afd0-c4a62f31bf10",
   "metadata": {},
   "outputs": [
    {
     "data": {
      "text/plain": [
       "True"
      ]
     },
     "execution_count": 21,
     "metadata": {},
     "output_type": "execute_result"
    }
   ],
   "source": [
    "check='maroon'\n",
    "is_present=check in fav_color\n",
    "is_present"
   ]
  },
  {
   "cell_type": "markdown",
   "id": "0de21768-32ca-4354-8c25-063ef2c9e628",
   "metadata": {},
   "source": [
    "Q9. Create a dictionary representing the information of a book with keys \"title\", \"author\", and\n",
    "\"year\" and print it. Update the year of the book and print the updated dictionary."
   ]
  },
  {
   "cell_type": "code",
   "execution_count": 27,
   "id": "e90630b7-d629-4603-bcbd-4a7f9ae346de",
   "metadata": {},
   "outputs": [
    {
     "data": {
      "text/plain": [
       "{'Title': 'me', 'Author': 'neha', 'Year': 2024}"
      ]
     },
     "execution_count": 27,
     "metadata": {},
     "output_type": "execute_result"
    }
   ],
   "source": [
    "book={'Title':'me', 'Author':'neha', 'Year':2024}\n",
    "book"
   ]
  },
  {
   "cell_type": "code",
   "execution_count": 28,
   "id": "6bc60983-c0a7-4611-98c2-ac0c33f9fcaf",
   "metadata": {},
   "outputs": [
    {
     "data": {
      "text/plain": [
       "{'Title': 'me', 'Author': 'neha', 'Year': 2022}"
      ]
     },
     "execution_count": 28,
     "metadata": {},
     "output_type": "execute_result"
    }
   ],
   "source": [
    "book['Year']=2022\n",
    "book"
   ]
  },
  {
   "cell_type": "markdown",
   "id": "b965e05a-6a5a-4e8f-916d-35de3ab93ecd",
   "metadata": {},
   "source": [
    "Q10. Create a dictionary containing the names of fruits as keys and their corresponding colors\n",
    "as values and print it. Add a new fruit-color pair to the dictionary and print the updated\n",
    "dictionary."
   ]
  },
  {
   "cell_type": "code",
   "execution_count": 29,
   "id": "9b7d811b-4567-4390-93c8-9125c445991e",
   "metadata": {},
   "outputs": [
    {
     "data": {
      "text/plain": [
       "{'apple': 'red', 'banana': 'yellow', 'orange': 'orange'}"
      ]
     },
     "execution_count": 29,
     "metadata": {},
     "output_type": "execute_result"
    }
   ],
   "source": [
    "fruit_color={'apple':'red', 'banana':'yellow', 'orange':'orange'}\n",
    "fruit_color"
   ]
  },
  {
   "cell_type": "code",
   "execution_count": 30,
   "id": "0aeb1c65-f7c7-407e-b704-13c313f0a6dc",
   "metadata": {},
   "outputs": [
    {
     "data": {
      "text/plain": [
       "{'apple': 'red', 'banana': 'yellow', 'orange': 'orange', 'grape': 'green'}"
      ]
     },
     "execution_count": 30,
     "metadata": {},
     "output_type": "execute_result"
    }
   ],
   "source": [
    "fruit_color['grape']='green'\n",
    "fruit_color"
   ]
  },
  {
   "cell_type": "markdown",
   "id": "38f0c6ec-4930-4b5c-8b72-804703537ae3",
   "metadata": {},
   "source": [
    "Q11. Create a dictionary representing the population of different cities with keys as city names\n",
    "and values as population numbers and print it. Remove a city from the dictionary and print\n",
    "the modified dictionary."
   ]
  },
  {
   "cell_type": "code",
   "execution_count": 31,
   "id": "3683719a-50d2-4f5c-8d07-5e628990281f",
   "metadata": {},
   "outputs": [
    {
     "data": {
      "text/plain": [
       "{'kathmandu': 200000, 'bhaktapur': 100000, 'patan': 100000}"
      ]
     },
     "execution_count": 31,
     "metadata": {},
     "output_type": "execute_result"
    }
   ],
   "source": [
    "population_dict={'kathmandu':200000, 'bhaktapur':100000, 'patan':100000}\n",
    "population_dict"
   ]
  },
  {
   "cell_type": "code",
   "execution_count": 34,
   "id": "8485bfa4-75c0-4c4d-bbdd-a7d96e179cce",
   "metadata": {},
   "outputs": [
    {
     "data": {
      "text/plain": [
       "200000"
      ]
     },
     "execution_count": 34,
     "metadata": {},
     "output_type": "execute_result"
    }
   ],
   "source": [
    "population_dict.pop('kathmandu')"
   ]
  },
  {
   "cell_type": "code",
   "execution_count": 35,
   "id": "a806284a-6ad4-48d4-8fa3-e0feca006844",
   "metadata": {},
   "outputs": [
    {
     "data": {
      "text/plain": [
       "{'bhaktapur': 100000, 'patan': 100000}"
      ]
     },
     "execution_count": 35,
     "metadata": {},
     "output_type": "execute_result"
    }
   ],
   "source": [
    "population_dict"
   ]
  },
  {
   "cell_type": "code",
   "execution_count": null,
   "id": "5e28ffaa-1d6e-452c-b233-2e9433b65771",
   "metadata": {},
   "outputs": [],
   "source": []
  }
 ],
 "metadata": {
  "kernelspec": {
   "display_name": "Python 3 (ipykernel)",
   "language": "python",
   "name": "python3"
  },
  "language_info": {
   "codemirror_mode": {
    "name": "ipython",
    "version": 3
   },
   "file_extension": ".py",
   "mimetype": "text/x-python",
   "name": "python",
   "nbconvert_exporter": "python",
   "pygments_lexer": "ipython3",
   "version": "3.11.7"
  }
 },
 "nbformat": 4,
 "nbformat_minor": 5
}
